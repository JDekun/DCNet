{
 "cells": [
  {
   "cell_type": "markdown",
   "metadata": {},
   "source": [
    "##### 1、Base mIOU: "
   ]
  },
  {
   "cell_type": "code",
   "execution_count": null,
   "metadata": {},
   "outputs": [],
   "source": [
    "%%time\n",
    "import os, sys, datetime; os.chdir(\"/\".join(sys.path[0].split('/')[:-1]))\n",
    "dir_date = \"./experiment/result/intra/results{}\".format(datetime.datetime.now().strftime(\"%Y%m%d-%H%M%S\"))\n",
    "result_data = dir_date; result_log = dir_date + \".log\"; print(dir_date)\n",
    "\n",
    "!CUDA_VISIBLE_DEVICES=4,5 torchrun --nproc_per_node=2 train_multi_GPU.py \\\n",
    "    --wandb True --wandb_model run \\\n",
    "    --sync_bn False --amp True --aux False \\\n",
    "    --batch_size 16 --batch_size_val 8 \\\n",
    "    --epochs 20 \\\n",
    "    --result_save $result_data\\\n",
    "    2>&1 | tee $result_log"
   ]
  }
 ],
 "metadata": {
  "kernelspec": {
   "display_name": "Python 3.9.12 ('base')",
   "language": "python",
   "name": "python3"
  },
  "language_info": {
   "name": "python",
   "version": "3.9.12"
  },
  "orig_nbformat": 4,
  "vscode": {
   "interpreter": {
    "hash": "42a4ea106d429adb85b92cbf5fe6fad5ad2431a3e82cdef4435b2cc92f522609"
   }
  }
 },
 "nbformat": 4,
 "nbformat_minor": 2
}
