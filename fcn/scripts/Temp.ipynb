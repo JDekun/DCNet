{
 "cells": [
  {
   "cell_type": "code",
   "execution_count": 3,
   "metadata": {},
   "outputs": [
    {
     "name": "stdout",
     "output_type": "stream",
     "text": [
      "WARNING:torch.distributed.run:\n",
      "*****************************************\n",
      "Setting OMP_NUM_THREADS environment variable for each process to be 1 in default, to avoid your system being overloaded, please further tune the variable for optimal performance in your application as needed. \n",
      "*****************************************\n",
      "[W socket.cpp:401] [c10d] The server socket has failed to bind to [::]:29500 (errno: 98 - Address already in use).\n",
      "[W socket.cpp:401] [c10d] The server socket has failed to bind to 0.0.0.0:29500 (errno: 98 - Address already in use).\n",
      "[E socket.cpp:435] [c10d] The server socket has failed to listen on any local network address.\n",
      "Traceback (most recent call last):\n",
      "  File \"/home/zk/anaconda3/bin/torchrun\", line 8, in <module>\n",
      "    sys.exit(main())\n",
      "  File \"/home/zk/anaconda3/lib/python3.9/site-packages/torch/distributed/elastic/multiprocessing/errors/__init__.py\", line 345, in wrapper\n",
      "    return f(*args, **kwargs)\n",
      "  File \"/home/zk/anaconda3/lib/python3.9/site-packages/torch/distributed/run.py\", line 761, in main\n",
      "    run(args)\n",
      "  File \"/home/zk/anaconda3/lib/python3.9/site-packages/torch/distributed/run.py\", line 752, in run\n",
      "    elastic_launch(\n",
      "  File \"/home/zk/anaconda3/lib/python3.9/site-packages/torch/distributed/launcher/api.py\", line 131, in __call__\n",
      "    return launch_agent(self._config, self._entrypoint, list(args))\n",
      "  File \"/home/zk/anaconda3/lib/python3.9/site-packages/torch/distributed/launcher/api.py\", line 236, in launch_agent\n",
      "    result = agent.run()\n",
      "  File \"/home/zk/anaconda3/lib/python3.9/site-packages/torch/distributed/elastic/metrics/api.py\", line 125, in wrapper\n",
      "    result = f(*args, **kwargs)\n",
      "  File \"/home/zk/anaconda3/lib/python3.9/site-packages/torch/distributed/elastic/agent/server/api.py\", line 709, in run\n",
      "    result = self._invoke_run(role)\n",
      "  File \"/home/zk/anaconda3/lib/python3.9/site-packages/torch/distributed/elastic/agent/server/api.py\", line 844, in _invoke_run\n",
      "    self._initialize_workers(self._worker_group)\n",
      "  File \"/home/zk/anaconda3/lib/python3.9/site-packages/torch/distributed/elastic/metrics/api.py\", line 125, in wrapper\n",
      "    result = f(*args, **kwargs)\n",
      "  File \"/home/zk/anaconda3/lib/python3.9/site-packages/torch/distributed/elastic/agent/server/api.py\", line 678, in _initialize_workers\n",
      "    self._rendezvous(worker_group)\n",
      "  File \"/home/zk/anaconda3/lib/python3.9/site-packages/torch/distributed/elastic/metrics/api.py\", line 125, in wrapper\n",
      "    result = f(*args, **kwargs)\n",
      "  File \"/home/zk/anaconda3/lib/python3.9/site-packages/torch/distributed/elastic/agent/server/api.py\", line 538, in _rendezvous\n",
      "    store, group_rank, group_world_size = spec.rdzv_handler.next_rendezvous()\n",
      "  File \"/home/zk/anaconda3/lib/python3.9/site-packages/torch/distributed/elastic/rendezvous/static_tcp_rendezvous.py\", line 55, in next_rendezvous\n",
      "    self._store = TCPStore(  # type: ignore[call-arg]\n",
      "RuntimeError: The server socket has failed to listen on any local network address. The server socket has failed to bind to [::]:29500 (errno: 98 - Address already in use). The server socket has failed to bind to 0.0.0.0:29500 (errno: 98 - Address already in use).\n"
     ]
    }
   ],
   "source": [
    "!experiment_name=\"Temp\";cd ../ ;\\\n",
    "    name_date=\"${experiment_name}/$(date +%Y-%m%d-%H%M%S)\";\\\n",
    "    dir=\"./results/${name_date}\";mkdir -p ${dir};dir_log=\"${dir}/output.log\";\\\n",
    "CUDA_VISIBLE_DEVICES=0,1 torchrun --nproc_per_node=2 train_multi_GPU.py \\\n",
    "    --wandb False --wandb_model run --sync_bn False --amp True --aux False \\\n",
    "    --batch_size 12 --batch_size_val 8 \\\n",
    "    --epochs 20 --start_epoch 0 \\\n",
    "    --contrast 0\\\n",
    "    --model_name dcnet_resnet50 --pre_trained fcn_resnet50_coco \\\n",
    "    --name_date $name_date \\\n",
    "    2>&1 | tee $dir_log"
   ]
  }
 ],
 "metadata": {
  "kernelspec": {
   "display_name": "Python 3.6.9 64-bit",
   "language": "python",
   "name": "python3"
  },
  "language_info": {
   "codemirror_mode": {
    "name": "ipython",
    "version": 3
   },
   "file_extension": ".py",
   "mimetype": "text/x-python",
   "name": "python",
   "nbconvert_exporter": "python",
   "pygments_lexer": "ipython3",
   "version": "3.6.9"
  },
  "orig_nbformat": 4,
  "vscode": {
   "interpreter": {
    "hash": "30295c5bec572e859485b1ffa5e89b8b3e2022ef6e3e739c1ac40f143a557caf"
   }
  }
 },
 "nbformat": 4,
 "nbformat_minor": 2
}
