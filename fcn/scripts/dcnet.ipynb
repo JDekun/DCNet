{
 "cells": [
  {
   "cell_type": "code",
   "execution_count": null,
   "metadata": {},
   "outputs": [],
   "source": [
    "!experiment_name=\"dcnet\";cd ../ ;\\\n",
    "    name_date=\"${experiment_name}/$(date +%Y-%m%d-%H%M%S)\";\\\n",
    "    dir=\"./results/${name_date}\";mkdir -p ${dir};dir_log=\"${dir}/output.log\";\\\n",
    "CUDA_VISIBLE_DEVICES=7,8,9 torchrun --nproc_per_node=3 train_multi_GPU.py \\\n",
    "    --wandb True --wandb_model dryrun --sync_bn False --amp True --aux False \\\n",
    "    --batch_size 4 --batch_size_val 4 --memory_size 65536 \\\n",
    "    --epochs 40 --data_path pascal-voc-2012 \\\n",
    "    --model_name dcnet_resnet101 --pre_trained pre-trained/pytorch/fcn_resnet101_coco.pth \\\n",
    "    --contrast 0 --loss_name double --L1_loss 0.1 --L2_loss 0.1 --L3_loss 0.1\\\n",
    "    --name_date $name_date \\\n",
    "    2>&1 | tee $dir_log"
   ]
  }
 ],
 "metadata": {
  "kernelspec": {
   "display_name": "Python 3",
   "language": "python",
   "name": "python3"
  },
  "language_info": {
   "codemirror_mode": {
    "name": "ipython",
    "version": 3
   },
   "file_extension": ".py",
   "mimetype": "text/x-python",
   "name": "python",
   "nbconvert_exporter": "python",
   "pygments_lexer": "ipython3",
   "version": "3.6.9"
  },
  "orig_nbformat": 4,
  "vscode": {
   "interpreter": {
    "hash": "31f2aee4e71d21fbe5cf8b01ff0e069b9275f58929596ceb00d14d90e3e16cd6"
   }
  }
 },
 "nbformat": 4,
 "nbformat_minor": 2
}
