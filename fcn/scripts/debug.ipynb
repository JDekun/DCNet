{
  "cells": [
    {
      "cell_type": "code",
      "execution_count": null,
      "metadata": {},
      "outputs": [],
      "source": [
        "!experiment_name=\"dcnet\";cd ../ ;\\\n",
        "    name_date=\"${experiment_name}/$(date +%Y-%m%d-%H%M%S)\";\\\n",
        "    dir=\"./results/${name_date}\";mkdir -p ${dir};dir_log=\"${dir}/output.log\";\\\n",
        "CUDA_VISIBLE_DEVICES=2,3 torchrun --nproc_per_node=2 train_multi_GPU.py \\\n",
        "    --wandb True --wandb_model dryrun --sync_bn False --amp True --aux False \\\n",
        "    --batch_size 5 --batch_size_val 4 --memory_size 32768 \\\n",
        "    --epochs 100 \\\n",
        "    --data_path cityscapes/Cityscape --num_classes 18 \\\n",
        "    --cfg datasets/dcnet.yaml \\\n",
        "    --model_name dcnet_resnet50 --pre_trained pre-trained/pytorch/fcn_resnet50_coco.pth \\\n",
        "    --contrast 0 --loss_name double --L1_loss 0.1 --L2_loss 0.1 --L3_loss 0.1\\\n",
        "    --name_date $name_date \\\n",
        "    2>&1 | tee $dir_log"
      ]
    }
  ],
  "metadata": {
    "accelerator": "GPU",
    "colab": {
      "provenance": []
    },
    "gpuClass": "standard",
    "kernelspec": {
      "display_name": "Python 3",
      "language": "python",
      "name": "python3"
    },
    "language_info": {
      "codemirror_mode": {
        "name": "ipython",
        "version": 3
      },
      "file_extension": ".py",
      "mimetype": "text/x-python",
      "name": "python",
      "nbconvert_exporter": "python",
      "pygments_lexer": "ipython3",
      "version": "3.9.13"
    },
    "orig_nbformat": 4,
    "vscode": {
      "interpreter": {
        "hash": "31f2aee4e71d21fbe5cf8b01ff0e069b9275f58929596ceb00d14d90e3e16cd6"
      }
    }
  },
  "nbformat": 4,
  "nbformat_minor": 0
}
