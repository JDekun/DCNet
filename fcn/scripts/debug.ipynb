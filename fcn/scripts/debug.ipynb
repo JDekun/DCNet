{
 "cells": [
  {
   "cell_type": "code",
   "execution_count": null,
   "metadata": {},
   "outputs": [],
   "source": [
    "#[[Colab]](https://colab.research.google.com/github/JDekun/DCNet/blob/dcnet/fcn/scripts/debug.ipynb?authuser=2) \n",
    "!git clone https://github.com/JDekun/Kaggle.git\n",
    "github = \"https://github.com/JDekun/DCNet\"  #@param {type:\"string\"}\n",
    "branch = \"dcnet\"  #@param {type:\"string\"}\n",
    "work_path = \"/fcn/scripts\" #@param {type:\"string\"}\n",
    "datasets = \"huanghanchina/pascal-voc-2012,mydekun/pre-trained\" #@param {type:\"string\"}\n",
    "!python Kaggle/colab_env.py --github $github --branch $branch --datasets $datasets\n",
    "import os; work_path = \"/content/working/\" + github.rsplit('/',1)[-1].rsplit('.',1)[0] + work_path\n",
    "os.chdir(work_path)\n",
    "!pip -q install wandb > /dev/null 2>&1"
   ]
  },
  {
   "cell_type": "markdown",
   "metadata": {},
   "source": [
    "dcnet with contrast : --batch_size 16 \n",
    "在colb中 --batch_size_val 12 在kaggle中--batch_size_val 10"
   ]
  },
  {
   "cell_type": "code",
   "execution_count": null,
   "metadata": {},
   "outputs": [],
   "source": [
    "!experiment_name=\"debug\";cd ../ ;\\\n",
    "    name_date=\"${experiment_name}/$(date +%Y-%m%d-%H%M%S)\";\\\n",
    "    dir=\"./results/${name_date}\";mkdir -p ${dir};dir_log=\"${dir}/output.log\";\\\n",
    "CUDA_VISIBLE_DEVICES=0 torchrun --nproc_per_node=1 train_multi_GPU.py \\\n",
    "    --wandb True --wandb_model run --sync_bn False --amp True --aux False \\\n",
    "    --batch_size 16 --batch_size_val 12 --GAcc 2\\\n",
    "    --epochs 40 --start_epoch 0 --data_path pascal-voc-2012 \\\n",
    "    --model_name dcnet_resnet50 --pre_trained pre-trained/pytorch/fcn_resnet50_coco.pth \\\n",
    "    --contrast  0 --loss_name double --L1_loss 0.1 --L2_loss 0.1 --L3_loss 0.1\\\n",
    "    --name_date $name_date \\\n",
    "    2>&1 | tee $dir_log"
   ]
  }
 ],
 "metadata": {
  "kernelspec": {
   "display_name": "Python 3.9.12 ('base')",
   "language": "python",
   "name": "python3"
  },
  "language_info": {
   "name": "python",
   "version": "3.9.12 (main, Apr  5 2022, 06:56:58) \n[GCC 7.5.0]"
  },
  "orig_nbformat": 4,
  "vscode": {
   "interpreter": {
    "hash": "cc9daa352394ac6fd6b224fdae94757fb224b4aab069bc0189ad8c000c678227"
   }
  }
 },
 "nbformat": 4,
 "nbformat_minor": 2
}
