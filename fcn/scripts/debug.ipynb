{
  "cells": [
    {
      "cell_type": "code",
      "execution_count": null,
      "metadata": {
        "id": "Qldq8mmQgExY"
      },
      "outputs": [],
      "source": [
        "#[[Colab]](https://colab.research.google.com/github/JDekun/DCNet/blob/dcnet/fcn/scripts/debug.ipynb?authuser=2) \n",
        "!git clone https://github.com/JDekun/Kaggle.git > /dev/null 2>&1\n",
        "github = \"https://github.com/JDekun/DCNet\"; branch = \"dcnet\"; work_path = \"/fcn/scripts\"\n",
        "datasets = \"huanghanchina/pascal-voc-2012,mydekun/pre-trained\"\n",
        "!python Kaggle/colab_env.py --github $github --branch $branch --datasets $datasets\n",
        "import os; work_path = \"/content/working/\" + github.rsplit('/',1)[-1].rsplit('.',1)[0] + work_path; os.chdir(work_path)\n",
        "!pip -q install wandb > /dev/null 2>&1"
      ]
    },
    {
      "cell_type": "markdown",
      "metadata": {
        "id": "PMQZzo37gExf"
      },
      "source": [
        "dcnet with contrast : --batch_size 16 \n",
        "在colb中 --batch_size_val 12 在kaggle中--batch_size_val 10"
      ]
    },
    {
      "cell_type": "code",
      "execution_count": null,
      "metadata": {
        "id": "Qe_pqvpTgExi"
      },
      "outputs": [],
      "source": [
        "!experiment_name=\"debug\";cd ../ ;\\\n",
        "    name_date=\"${experiment_name}/$(date +%Y-%m%d-%H%M%S)\";\\\n",
        "    dir=\"./results/${name_date}\";mkdir -p ${dir};dir_log=\"${dir}/output.log\";\\\n",
        "CUDA_VISIBLE_DEVICES=0 torchrun --nproc_per_node=1 train_multi_GPU.py \\\n",
        "    --wandb False --wandb_model run --sync_bn False --amp True --aux False \\\n",
        "    --batch_size 4 --batch_size_val 12 --memory_size 3500 --ddp True\\\n",
        "    --epochs 40 --data_path pascal-voc-2012 \\\n",
        "    --model_name dcnet_resnet50 --pre_trained pre-trained/pytorch/fcn_resnet50_coco.pth \\\n",
        "    --contrast  0 --loss_name double --L1_loss 0 --L2_loss 0 --L3_loss 0.1\\\n",
        "    --name_date $name_date \\\n",
        "    2>&1 | tee $dir_log"
      ]
    },
    {
      "cell_type": "markdown",
      "metadata": {
        "id": "q_rHkcvUgExl"
      },
      "source": [
        "本地debug用"
      ]
    },
    {
      "cell_type": "code",
      "execution_count": null,
      "metadata": {
        "id": "3KGtnv5JgExn"
      },
      "outputs": [],
      "source": [
        "!experiment_name=\"debug\";cd ../ ;\\\n",
        "    name_date=\"${experiment_name}/$(date +%Y-%m%d-%H%M%S)\";\\\n",
        "    dir=\"./results/${name_date}\";mkdir -p ${dir};dir_log=\"${dir}/output.log\";\\\n",
        "CUDA_VISIBLE_DEVICES=0 torchrun --nproc_per_node=1 train_multi_GPU.py \\\n",
        "    --wandb False --wandb_model run --sync_bn False --amp True --aux False \\\n",
        "    --batch_size 1 --batch_size_val 1 \\\n",
        "    --epochs 40 --data_path pascal \\\n",
        "    --model_name dcnet_resnet50 --pre_trained pre-trained/pytorch/fcn_resnet50_coco.pth \\\n",
        "    --contrast  0 --loss_name double --L1_loss 0 --L2_loss 0 --L3_loss 0.1\\\n",
        "    --name_date $name_date \\\n",
        "    2>&1 | tee $dir_log"
      ]
    }
  ],
  "metadata": {
    "accelerator": "GPU",
    "colab": {
      "provenance": []
    },
    "gpuClass": "standard",
    "kernelspec": {
      "display_name": "Python 3.9.12 ('base')",
      "language": "python",
      "name": "python3"
    },
    "language_info": {
      "codemirror_mode": {
        "name": "ipython",
        "version": 3
      },
      "file_extension": ".py",
      "mimetype": "text/x-python",
      "name": "python",
      "nbconvert_exporter": "python",
      "pygments_lexer": "ipython3",
      "version": "3.9.12 (main, Apr  5 2022, 06:56:58) \n[GCC 7.5.0]"
    },
    "orig_nbformat": 4,
    "vscode": {
      "interpreter": {
        "hash": "cc9daa352394ac6fd6b224fdae94757fb224b4aab069bc0189ad8c000c678227"
      }
    }
  },
  "nbformat": 4,
  "nbformat_minor": 0
}
