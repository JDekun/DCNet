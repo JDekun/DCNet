{
  "cells": [
    {
      "cell_type": "code",
      "execution_count": 1,
      "metadata": {},
      "outputs": [
        {
          "name": "stdout",
          "output_type": "stream",
          "text": [
            "| distributed init (rank 0): env://\n",
            "debug/2023-0313-230508\n",
            "Namespace(data_path='pascal-voc-2012', device='cuda', num_classes=20, batch_size=8, batch_size_val=8, aux=False, start_epoch=0, epochs=40, sync_bn=False, workers=1, lr=0.0001, momentum=0.9, weight_decay=0.0001, print_freq=10, checkpoint_dir='./results/debug/2023-0313-230508', resume='', test_only=False, world_size=1, dist_url='env://', amp=True, seed=304, name_date='debug/2023-0313-230508', wandb=False, wandb_model='run', model_name='deeplabv3_resnet101', project_dim=128, loss_name='double', contrast=-1, pre_trained='pre-trained/pytorch/deeplabv3_resnet101_coco.pth', L3_loss=0.1, L2_loss=0.1, L1_loss=0.1, GAcc=1, memory_size=0, proj_dim=128, network_stride=8, pixel_update_freq=10, ddp=False, rank=0, gpu=0, distributed=True, dist_backend='nccl')\n",
            "Creating data loaders\n",
            "Creating model\n",
            "Traceback (most recent call last):\n",
            "  File \"/home/zk/GIT/working/DCNet/fcn/train_multi_GPU.py\", line 426, in <module>\n",
            "    main(args)\n",
            "  File \"/home/zk/GIT/working/DCNet/fcn/train_multi_GPU.py\", line 142, in main\n",
            "    model = create_model(args)\n",
            "  File \"/home/zk/GIT/working/DCNet/fcn/train_multi_GPU.py\", line 67, in create_model\n",
            "    weights_dict = torch.load(f\"../../../input/{pre_trained}\", map_location='cpu')\n",
            "  File \"/home/zk/anaconda3/lib/python3.9/site-packages/torch/serialization.py\", line 771, in load\n",
            "    with _open_file_like(f, 'rb') as opened_file:\n",
            "  File \"/home/zk/anaconda3/lib/python3.9/site-packages/torch/serialization.py\", line 270, in _open_file_like\n",
            "    return _open_file(name_or_buffer, mode)\n",
            "  File \"/home/zk/anaconda3/lib/python3.9/site-packages/torch/serialization.py\", line 251, in __init__\n",
            "    super(_open_file, self).__init__(open(name, mode))\n",
            "FileNotFoundError: [Errno 2] No such file or directory: '../../../input/pre-trained/pytorch/deeplabv3_resnet101_coco.pth'\n",
            "ERROR:torch.distributed.elastic.multiprocessing.api:failed (exitcode: 1) local_rank: 0 (pid: 5032) of binary: /home/zk/anaconda3/bin/python\n",
            "Traceback (most recent call last):\n",
            "  File \"/home/zk/anaconda3/bin/torchrun\", line 8, in <module>\n",
            "    sys.exit(main())\n",
            "  File \"/home/zk/anaconda3/lib/python3.9/site-packages/torch/distributed/elastic/multiprocessing/errors/__init__.py\", line 346, in wrapper\n",
            "    return f(*args, **kwargs)\n",
            "  File \"/home/zk/anaconda3/lib/python3.9/site-packages/torch/distributed/run.py\", line 762, in main\n",
            "    run(args)\n",
            "  File \"/home/zk/anaconda3/lib/python3.9/site-packages/torch/distributed/run.py\", line 753, in run\n",
            "    elastic_launch(\n",
            "  File \"/home/zk/anaconda3/lib/python3.9/site-packages/torch/distributed/launcher/api.py\", line 132, in __call__\n",
            "    return launch_agent(self._config, self._entrypoint, list(args))\n",
            "  File \"/home/zk/anaconda3/lib/python3.9/site-packages/torch/distributed/launcher/api.py\", line 246, in launch_agent\n",
            "    raise ChildFailedError(\n",
            "torch.distributed.elastic.multiprocessing.errors.ChildFailedError: \n",
            "============================================================\n",
            "train_multi_GPU.py FAILED\n",
            "------------------------------------------------------------\n",
            "Failures:\n",
            "  <NO_OTHER_FAILURES>\n",
            "------------------------------------------------------------\n",
            "Root Cause (first observed failure):\n",
            "[0]:\n",
            "  time      : 2023-03-13_23:05:20\n",
            "  host      : GPU1\n",
            "  rank      : 0 (local_rank: 0)\n",
            "  exitcode  : 1 (pid: 5032)\n",
            "  error_file: <N/A>\n",
            "  traceback : To enable traceback see: https://pytorch.org/docs/stable/elastic/errors.html\n",
            "============================================================\n"
          ]
        }
      ],
      "source": [
        "!experiment_name=\"debug\";cd ../ ;\\\n",
        "    name_date=\"${experiment_name}/$(date +%Y-%m%d-%H%M%S)\";\\\n",
        "    dir=\"./results/${name_date}\";mkdir -p ${dir};dir_log=\"${dir}/output.log\";\\\n",
        "CUDA_VISIBLE_DEVICES=8 torchrun --nproc_per_node=1 --master_port=12345 train_multi_GPU.py \\\n",
        "    --wandb False --wandb_model run --sync_bn False --amp True --aux False \\\n",
        "    --batch_size 8 --batch_size_val 8 --memory_size 0 \\\n",
        "    --epochs 40 --data_path pascal-voc-2012 \\\n",
        "    --model_name deeplabv3_resnet101 --pre_trained pre-trained/deeplabv3_resnet101_coco.pth \\\n",
        "    --contrast -1 --loss_name double --L1_loss 0.1 --L2_loss 0.1 --L3_loss 0.1\\\n",
        "    --name_date $name_date \\\n",
        "    2>&1 | tee $dir_log"
      ]
    }
  ],
  "metadata": {
    "accelerator": "GPU",
    "colab": {
      "provenance": []
    },
    "gpuClass": "standard",
    "kernelspec": {
      "display_name": "Python 3",
      "language": "python",
      "name": "python3"
    },
    "language_info": {
      "codemirror_mode": {
        "name": "ipython",
        "version": 3
      },
      "file_extension": ".py",
      "mimetype": "text/x-python",
      "name": "python",
      "nbconvert_exporter": "python",
      "pygments_lexer": "ipython3",
      "version": "3.9.13"
    },
    "orig_nbformat": 4,
    "vscode": {
      "interpreter": {
        "hash": "31f2aee4e71d21fbe5cf8b01ff0e069b9275f58929596ceb00d14d90e3e16cd6"
      }
    }
  },
  "nbformat": 4,
  "nbformat_minor": 0
}
