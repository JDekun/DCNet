{
 "cells": [
  {
   "cell_type": "code",
   "execution_count": 233,
   "metadata": {},
   "outputs": [],
   "source": [
    "import torch"
   ]
  },
  {
   "cell_type": "code",
   "execution_count": 234,
   "metadata": {},
   "outputs": [],
   "source": [
    "data = torch.rand([2,2,3,4])"
   ]
  },
  {
   "cell_type": "code",
   "execution_count": 235,
   "metadata": {},
   "outputs": [
    {
     "data": {
      "text/plain": [
       "(tensor([[[[0.1460, 0.7065, 0.2686, 0.0681],\n",
       "           [0.1651, 0.3473, 0.1755, 0.0359],\n",
       "           [0.1333, 0.2825, 0.6345, 0.5561]],\n",
       " \n",
       "          [[0.2241, 0.0062, 0.1726, 0.4390],\n",
       "           [0.4509, 0.6007, 0.4506, 0.3432],\n",
       "           [0.5799, 0.8839, 0.2833, 0.9713]]],\n",
       " \n",
       " \n",
       "         [[[0.7025, 0.3980, 0.0471, 0.2567],\n",
       "           [0.3623, 0.5884, 0.7515, 0.8357],\n",
       "           [0.5043, 0.3229, 0.4080, 0.6654]],\n",
       " \n",
       "          [[0.6293, 0.2183, 0.0126, 0.3113],\n",
       "           [0.2201, 0.9939, 0.0899, 0.4169],\n",
       "           [0.0621, 0.0965, 0.0045, 0.8533]]]]),\n",
       " torch.Size([2, 2, 3, 4]))"
      ]
     },
     "execution_count": 235,
     "metadata": {},
     "output_type": "execute_result"
    }
   ],
   "source": [
    "data,data.shape"
   ]
  },
  {
   "cell_type": "code",
   "execution_count": 236,
   "metadata": {},
   "outputs": [],
   "source": [
    "data1 = data.permute(0,2,3,1)"
   ]
  },
  {
   "cell_type": "code",
   "execution_count": 237,
   "metadata": {},
   "outputs": [],
   "source": [
    "data2 = data1.contiguous().view([-1, data1.shape[3]])"
   ]
  },
  {
   "cell_type": "code",
   "execution_count": 238,
   "metadata": {},
   "outputs": [
    {
     "data": {
      "text/plain": [
       "tensor([[0.1460, 0.2241],\n",
       "        [0.7065, 0.0062],\n",
       "        [0.2686, 0.1726],\n",
       "        [0.0681, 0.4390],\n",
       "        [0.1651, 0.4509],\n",
       "        [0.3473, 0.6007],\n",
       "        [0.1755, 0.4506],\n",
       "        [0.0359, 0.3432],\n",
       "        [0.1333, 0.5799],\n",
       "        [0.2825, 0.8839],\n",
       "        [0.6345, 0.2833],\n",
       "        [0.5561, 0.9713],\n",
       "        [0.7025, 0.6293],\n",
       "        [0.3980, 0.2183],\n",
       "        [0.0471, 0.0126],\n",
       "        [0.2567, 0.3113],\n",
       "        [0.3623, 0.2201],\n",
       "        [0.5884, 0.9939],\n",
       "        [0.7515, 0.0899],\n",
       "        [0.8357, 0.4169],\n",
       "        [0.5043, 0.0621],\n",
       "        [0.3229, 0.0965],\n",
       "        [0.4080, 0.0045],\n",
       "        [0.6654, 0.8533]])"
      ]
     },
     "execution_count": 238,
     "metadata": {},
     "output_type": "execute_result"
    }
   ],
   "source": [
    "data2"
   ]
  }
 ],
 "metadata": {
  "kernelspec": {
   "display_name": "Python 3.7.3 ('base')",
   "language": "python",
   "name": "python3"
  },
  "language_info": {
   "codemirror_mode": {
    "name": "ipython",
    "version": 3
   },
   "file_extension": ".py",
   "mimetype": "text/x-python",
   "name": "python",
   "nbconvert_exporter": "python",
   "pygments_lexer": "ipython3",
   "version": "3.7.3"
  },
  "orig_nbformat": 4,
  "vscode": {
   "interpreter": {
    "hash": "42a4ea106d429adb85b92cbf5fe6fad5ad2431a3e82cdef4435b2cc92f522609"
   }
  }
 },
 "nbformat": 4,
 "nbformat_minor": 2
}
