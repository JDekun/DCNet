{
 "cells": [
  {
   "cell_type": "code",
   "execution_count": 1,
   "metadata": {},
   "outputs": [],
   "source": [
    "import torch"
   ]
  },
  {
   "cell_type": "code",
   "execution_count": 2,
   "metadata": {},
   "outputs": [],
   "source": [
    "data = torch.rand([2,2,3,4])"
   ]
  },
  {
   "cell_type": "code",
   "execution_count": 3,
   "metadata": {},
   "outputs": [
    {
     "data": {
      "text/plain": [
       "(tensor([[[[0.9336, 0.5868, 0.4703, 0.6762],\n",
       "           [0.3395, 0.2547, 0.3528, 0.4312],\n",
       "           [0.8470, 0.7189, 0.3222, 0.8064]],\n",
       " \n",
       "          [[0.3665, 0.4545, 0.8921, 0.7179],\n",
       "           [0.2143, 0.5371, 0.1009, 0.5539],\n",
       "           [0.6657, 0.3684, 0.8866, 0.0920]]],\n",
       " \n",
       " \n",
       "         [[[0.3230, 0.2451, 0.7668, 0.8565],\n",
       "           [0.5000, 0.8827, 0.5048, 0.2897],\n",
       "           [0.6108, 0.1333, 0.6312, 0.8688]],\n",
       " \n",
       "          [[0.1111, 0.3878, 0.2625, 0.3767],\n",
       "           [0.0414, 0.5270, 0.9028, 0.4735],\n",
       "           [0.7356, 0.6457, 0.5284, 0.7074]]]]),\n",
       " torch.Size([2, 2, 3, 4]))"
      ]
     },
     "execution_count": 3,
     "metadata": {},
     "output_type": "execute_result"
    }
   ],
   "source": [
    "data,data.shape"
   ]
  },
  {
   "cell_type": "code",
   "execution_count": 4,
   "metadata": {},
   "outputs": [],
   "source": [
    "data1 = data.permute(0,2,3,1)"
   ]
  },
  {
   "cell_type": "code",
   "execution_count": 237,
   "metadata": {},
   "outputs": [],
   "source": [
    "data2 = data1.contiguous().view([-1, data1.shape[3]])"
   ]
  },
  {
   "cell_type": "code",
   "execution_count": 238,
   "metadata": {},
   "outputs": [
    {
     "data": {
      "text/plain": [
       "tensor([[0.1460, 0.2241],\n",
       "        [0.7065, 0.0062],\n",
       "        [0.2686, 0.1726],\n",
       "        [0.0681, 0.4390],\n",
       "        [0.1651, 0.4509],\n",
       "        [0.3473, 0.6007],\n",
       "        [0.1755, 0.4506],\n",
       "        [0.0359, 0.3432],\n",
       "        [0.1333, 0.5799],\n",
       "        [0.2825, 0.8839],\n",
       "        [0.6345, 0.2833],\n",
       "        [0.5561, 0.9713],\n",
       "        [0.7025, 0.6293],\n",
       "        [0.3980, 0.2183],\n",
       "        [0.0471, 0.0126],\n",
       "        [0.2567, 0.3113],\n",
       "        [0.3623, 0.2201],\n",
       "        [0.5884, 0.9939],\n",
       "        [0.7515, 0.0899],\n",
       "        [0.8357, 0.4169],\n",
       "        [0.5043, 0.0621],\n",
       "        [0.3229, 0.0965],\n",
       "        [0.4080, 0.0045],\n",
       "        [0.6654, 0.8533]])"
      ]
     },
     "execution_count": 238,
     "metadata": {},
     "output_type": "execute_result"
    }
   ],
   "source": [
    "data2"
   ]
  },
  {
   "cell_type": "code",
   "execution_count": 10,
   "metadata": {},
   "outputs": [],
   "source": [
    "data = torch.rand([2,3,4])"
   ]
  },
  {
   "cell_type": "code",
   "execution_count": 11,
   "metadata": {},
   "outputs": [
    {
     "data": {
      "text/plain": [
       "tensor([[[0.4552, 0.9998, 0.4721, 0.0437],\n",
       "         [0.4753, 0.4354, 0.8355, 0.1161],\n",
       "         [0.2716, 0.7266, 0.7657, 0.9512]],\n",
       "\n",
       "        [[0.5957, 0.3744, 0.5922, 0.4576],\n",
       "         [0.4452, 0.8806, 0.2957, 0.7242],\n",
       "         [0.2229, 0.1127, 0.0629, 0.9083]]])"
      ]
     },
     "execution_count": 11,
     "metadata": {},
     "output_type": "execute_result"
    }
   ],
   "source": [
    "data"
   ]
  },
  {
   "cell_type": "code",
   "execution_count": 8,
   "metadata": {},
   "outputs": [
    {
     "data": {
      "text/plain": [
       "tensor([[0.4411, 0.4464, 0.7167, 0.0962],\n",
       "        [0.4704, 0.9263, 0.8729, 0.5080],\n",
       "        [0.3021, 0.9049, 0.0312, 0.4692],\n",
       "        [0.6298, 0.1067, 0.0690, 0.1407],\n",
       "        [0.1956, 0.6053, 0.6894, 0.6244],\n",
       "        [0.2217, 0.9313, 0.1224, 0.8305]])"
      ]
     },
     "execution_count": 8,
     "metadata": {},
     "output_type": "execute_result"
    }
   ],
   "source": [
    "data.contiguous().view([-1, 4])"
   ]
  },
  {
   "cell_type": "code",
   "execution_count": 12,
   "metadata": {},
   "outputs": [],
   "source": [
    "contrast_feature = torch.cat(torch.unbind(data, dim=1), dim=0)"
   ]
  },
  {
   "cell_type": "code",
   "execution_count": 22,
   "metadata": {},
   "outputs": [
    {
     "data": {
      "text/plain": [
       "tensor([[0.4552, 0.9998, 0.4721, 0.0437],\n",
       "        [0.5957, 0.3744, 0.5922, 0.4576],\n",
       "        [0.4753, 0.4354, 0.8355, 0.1161],\n",
       "        [0.4452, 0.8806, 0.2957, 0.7242],\n",
       "        [0.2716, 0.7266, 0.7657, 0.9512],\n",
       "        [0.2229, 0.1127, 0.0629, 0.9083]])"
      ]
     },
     "execution_count": 22,
     "metadata": {},
     "output_type": "execute_result"
    }
   ],
   "source": [
    "a = contrast_feature\n",
    "a"
   ]
  },
  {
   "cell_type": "code",
   "execution_count": 23,
   "metadata": {},
   "outputs": [
    {
     "data": {
      "text/plain": [
       "tensor([[1.9709],\n",
       "        [2.0200],\n",
       "        [1.8622],\n",
       "        [2.3457],\n",
       "        [2.7151],\n",
       "        [1.3067]])"
      ]
     },
     "execution_count": 23,
     "metadata": {},
     "output_type": "execute_result"
    }
   ],
   "source": [
    "b = contrast_feature.sum(1,keepdim=True)\n",
    "b"
   ]
  },
  {
   "cell_type": "code",
   "execution_count": 21,
   "metadata": {},
   "outputs": [
    {
     "data": {
      "text/plain": [
       "tensor([[2.4261, 2.9707, 2.4431, 2.0146],\n",
       "        [2.6157, 2.3944, 2.6121, 2.4776],\n",
       "        [2.3375, 2.2976, 2.6977, 1.9784],\n",
       "        [2.7909, 3.2262, 2.6413, 3.0698],\n",
       "        [2.9867, 3.4417, 3.4809, 3.6663],\n",
       "        [1.5295, 1.4193, 1.3695, 2.2149]])"
      ]
     },
     "execution_count": 21,
     "metadata": {},
     "output_type": "execute_result"
    }
   ],
   "source": [
    "a + b"
   ]
  },
  {
   "cell_type": "code",
   "execution_count": null,
   "metadata": {},
   "outputs": [],
   "source": []
  }
 ],
 "metadata": {
  "kernelspec": {
   "display_name": "Python 3.7.3 ('base')",
   "language": "python",
   "name": "python3"
  },
  "language_info": {
   "codemirror_mode": {
    "name": "ipython",
    "version": 3
   },
   "file_extension": ".py",
   "mimetype": "text/x-python",
   "name": "python",
   "nbconvert_exporter": "python",
   "pygments_lexer": "ipython3",
   "version": "3.9.12"
  },
  "orig_nbformat": 4,
  "vscode": {
   "interpreter": {
    "hash": "42a4ea106d429adb85b92cbf5fe6fad5ad2431a3e82cdef4435b2cc92f522609"
   }
  }
 },
 "nbformat": 4,
 "nbformat_minor": 2
}
