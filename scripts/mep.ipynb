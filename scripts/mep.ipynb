{
 "cells": [
  {
   "cell_type": "code",
   "execution_count": null,
   "metadata": {},
   "outputs": [],
   "source": [
    "!experiment_name=\"mep\";cd ../ ;\\\n",
    "    name_date=\"${experiment_name}/$(date +%Y-%m%d-%H%M%S)\";\\\n",
    "    dir=\"./results/${name_date}\";mkdir -p ${dir};dir_log=\"${dir}/output.log\";\\\n",
    "CUDA_VISIBLE_DEVICES=1,2,3,9 torchrun --nproc_per_node=4 --master_port=1234 train_multi_GPU.py \\\n",
    "    --wandb DCNet_city --wandb_model dryrun --sync_bn True --amp False --aux False \\\n",
    "    --model_name mep_resnet101 --pre_trained resnet101-imagenet.pth --data_path cityscapes \\\n",
    "    --epochs 50 --batch_size 2 --batch_size_val 1 --memory_size 32768 \\\n",
    "    --contrast 0 --L1_loss 0.1 --L2_loss 0.1 --L3_loss 0.1 --loss_name aspp_loss \\\n",
    "    --sample weight_ade_8 --attention cbam \\\n",
    "    --name_date $name_date \\\n",
    "    2>&1 | tee $dir_log"
   ]
  }
 ],
 "metadata": {
  "kernelspec": {
   "display_name": "base",
   "language": "python",
   "name": "python3"
  },
  "language_info": {
   "codemirror_mode": {
    "name": "ipython",
    "version": 3
   },
   "file_extension": ".py",
   "mimetype": "text/x-python",
   "name": "python",
   "nbconvert_exporter": "python",
   "pygments_lexer": "ipython3",
   "version": "3.9.13"
  },
  "orig_nbformat": 4
 },
 "nbformat": 4,
 "nbformat_minor": 2
}
