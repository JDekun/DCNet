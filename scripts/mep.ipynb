{
 "cells": [
  {
   "cell_type": "code",
   "execution_count": 4,
   "metadata": {},
   "outputs": [
    {
     "name": "stdout",
     "output_type": "stream",
     "text": [
      "WARNING:torch.distributed.run:\n",
      "*****************************************\n",
      "Setting OMP_NUM_THREADS environment variable for each process to be 1 in default, to avoid your system being overloaded, please further tune the variable for optimal performance in your application as needed. \n",
      "*****************************************\n",
      "/home/zk/anaconda3/lib/python3.9/site-packages/torchvision/io/image.py:13: UserWarning: Failed to load image Python extension: libc10_cuda.so: cannot open shared object file: No such file or directory\n",
      "  warn(f\"Failed to load image Python extension: {e}\")\n",
      "/home/zk/anaconda3/lib/python3.9/site-packages/torchvision/io/image.py:13: UserWarning: Failed to load image Python extension: libc10_cuda.so: cannot open shared object file: No such file or directory\n",
      "  warn(f\"Failed to load image Python extension: {e}\")\n",
      "Traceback (most recent call last):\n",
      "  File \"/home/zk/GIT/working/DCNet/train_multi_GPU.py\", line 311, in <module>\n",
      "    main(args)\n",
      "  File \"/home/zk/GIT/working/DCNet/train_multi_GPU.py\", line 33, in main\n",
      "    init_distributed_mode(args)\n",
      "  File \"/home/zk/GIT/working/DCNet/train_utils/distributed_utils.py\", line 282, in init_distributed_mode\n",
      "    torch.cuda.set_device(args.gpu)\n",
      "  File \"/home/zk/anaconda3/lib/python3.9/site-packages/torch/cuda/__init__.py\", line 314, in set_device\n",
      "    torch._C._cuda_setDevice(device)\n",
      "AttributeError: module 'torch._C' has no attribute '_cuda_setDevice'\n",
      "Traceback (most recent call last):\n",
      "  File \"/home/zk/GIT/working/DCNet/train_multi_GPU.py\", line 311, in <module>\n",
      "    main(args)\n",
      "  File \"/home/zk/GIT/working/DCNet/train_multi_GPU.py\", line 33, in main\n",
      "    init_distributed_mode(args)\n",
      "  File \"/home/zk/GIT/working/DCNet/train_utils/distributed_utils.py\", line 282, in init_distributed_mode\n",
      "    torch.cuda.set_device(args.gpu)\n",
      "  File \"/home/zk/anaconda3/lib/python3.9/site-packages/torch/cuda/__init__.py\", line 314, in set_device\n",
      "    torch._C._cuda_setDevice(device)\n",
      "AttributeError: module 'torch._C' has no attribute '_cuda_setDevice'\n",
      "ERROR:torch.distributed.elastic.multiprocessing.api:failed (exitcode: 1) local_rank: 0 (pid: 18698) of binary: /home/zk/anaconda3/bin/python\n",
      "Traceback (most recent call last):\n",
      "  File \"/home/zk/anaconda3/bin/torchrun\", line 33, in <module>\n",
      "    sys.exit(load_entry_point('torch==1.12.1', 'console_scripts', 'torchrun')())\n",
      "  File \"/home/zk/anaconda3/lib/python3.9/site-packages/torch/distributed/elastic/multiprocessing/errors/__init__.py\", line 345, in wrapper\n",
      "    return f(*args, **kwargs)\n",
      "  File \"/home/zk/anaconda3/lib/python3.9/site-packages/torch/distributed/run.py\", line 761, in main\n",
      "    run(args)\n",
      "  File \"/home/zk/anaconda3/lib/python3.9/site-packages/torch/distributed/run.py\", line 752, in run\n",
      "    elastic_launch(\n",
      "  File \"/home/zk/anaconda3/lib/python3.9/site-packages/torch/distributed/launcher/api.py\", line 131, in __call__\n",
      "    return launch_agent(self._config, self._entrypoint, list(args))\n",
      "  File \"/home/zk/anaconda3/lib/python3.9/site-packages/torch/distributed/launcher/api.py\", line 245, in launch_agent\n",
      "    raise ChildFailedError(\n",
      "torch.distributed.elastic.multiprocessing.errors.ChildFailedError: \n",
      "============================================================\n",
      "train_multi_GPU.py FAILED\n",
      "------------------------------------------------------------\n",
      "Failures:\n",
      "[1]:\n",
      "  time      : 2023-04-15_10:12:22\n",
      "  host      : GPU1\n",
      "  rank      : 1 (local_rank: 1)\n",
      "  exitcode  : 1 (pid: 18699)\n",
      "  error_file: <N/A>\n",
      "  traceback : To enable traceback see: https://pytorch.org/docs/stable/elastic/errors.html\n",
      "------------------------------------------------------------\n",
      "Root Cause (first observed failure):\n",
      "[0]:\n",
      "  time      : 2023-04-15_10:12:22\n",
      "  host      : GPU1\n",
      "  rank      : 0 (local_rank: 0)\n",
      "  exitcode  : 1 (pid: 18698)\n",
      "  error_file: <N/A>\n",
      "  traceback : To enable traceback see: https://pytorch.org/docs/stable/elastic/errors.html\n",
      "============================================================\n"
     ]
    }
   ],
   "source": [
    "!experiment_name=\"mep\";cd ../ ;\\\n",
    "    name_date=\"${experiment_name}/$(date +%Y-%m%d-%H%M%S)\";\\\n",
    "    dir=\"./results/${name_date}\";mkdir -p ${dir};dir_log=\"${dir}/output.log\";\\\n",
    "CUDA_VISIBLE_DEVICES=1,2,3,9 torchrun --nproc_per_node=4 --master_port=12324 train_multi_GPU.py \\\n",
    "    --wandb DCNet_city --wandb_model dryrun --sync_bn True --amp False --aux False \\\n",
    "    --model_name mep_res_101 --pre_trained resnet101-imagenet.pth --data_path cityscapes \\\n",
    "    --epochs 50 --batch_size 2 --batch_size_val 1 --memory_size 32768 \\\n",
    "    --contrast 0 --L1_loss 0.1 --L2_loss 0.1 --L3_loss 0.1 --loss_name aspp_loss \\\n",
    "    --sample weight_ade_8 --attention cbam \\\n",
    "    --name_date $name_date \\\n",
    "    2>&1 | tee $dir_log"
   ]
  }
 ],
 "metadata": {
  "kernelspec": {
   "display_name": "base",
   "language": "python",
   "name": "python3"
  },
  "language_info": {
   "codemirror_mode": {
    "name": "ipython",
    "version": 3
   },
   "file_extension": ".py",
   "mimetype": "text/x-python",
   "name": "python",
   "nbconvert_exporter": "python",
   "pygments_lexer": "ipython3",
   "version": "3.9.13"
  },
  "orig_nbformat": 4
 },
 "nbformat": 4,
 "nbformat_minor": 2
}
